{
 "cells": [
  {
   "cell_type": "code",
   "execution_count": 2,
   "metadata": {},
   "outputs": [],
   "source": [
    "import os\n",
    "import pandas as pd\n",
    "import numpy as np\n",
    "from sklearn.preprocessing import LabelEncoder"
   ]
  },
  {
   "cell_type": "code",
   "execution_count": 3,
   "metadata": {},
   "outputs": [
    {
     "data": {
      "text/plain": [
       "'c:\\\\Users\\\\HP\\\\Documents\\\\SBP'"
      ]
     },
     "execution_count": 3,
     "metadata": {},
     "output_type": "execute_result"
    }
   ],
   "source": [
    "os.getcwd()"
   ]
  },
  {
   "cell_type": "code",
   "execution_count": 4,
   "metadata": {},
   "outputs": [
    {
     "name": "stdout",
     "output_type": "stream",
     "text": [
      "(612, 6)\n",
      "Index(['Series Key', 'Series', 'Observation Date', 'Observation Value', 'Unit',\n",
      "       'Observation Status'],\n",
      "      dtype='object')\n"
     ]
    }
   ],
   "source": [
    "dataRem = pd.read_csv(\"USARemittanceMonthly.csv\")\n",
    "print(dataRem.shape)\n",
    "print(dataRem.columns)"
   ]
  },
  {
   "cell_type": "code",
   "execution_count": 5,
   "metadata": {},
   "outputs": [],
   "source": [
    "dataRem['Observation Date'] = pd.to_datetime(dataRem['Observation Date'], format='%m/%d/%Y')"
   ]
  },
  {
   "cell_type": "code",
   "execution_count": 6,
   "metadata": {},
   "outputs": [],
   "source": [
    "dataRem['Day'] = dataRem['Observation Date'].dt.day\n",
    "dataRem['Month'] = dataRem['Observation Date'].dt.month\n",
    "dataRem['Year'] = dataRem['Observation Date'].dt.year"
   ]
  },
  {
   "cell_type": "code",
   "execution_count": 44,
   "metadata": {},
   "outputs": [],
   "source": [
    "#dataRem.drop('Observation Date', axis=1, inplace=True)"
   ]
  },
  {
   "cell_type": "code",
   "execution_count": 7,
   "metadata": {},
   "outputs": [
    {
     "data": {
      "text/plain": [
       "Series Key                    object\n",
       "Series                        object\n",
       "Observation Date      datetime64[ns]\n",
       "Observation Value            float64\n",
       "Unit                          object\n",
       "Observation Status            object\n",
       "Day                            int32\n",
       "Month                          int32\n",
       "Year                           int32\n",
       "dtype: object"
      ]
     },
     "execution_count": 7,
     "metadata": {},
     "output_type": "execute_result"
    }
   ],
   "source": [
    "dataRem.dtypes"
   ]
  },
  {
   "cell_type": "code",
   "execution_count": 8,
   "metadata": {},
   "outputs": [
    {
     "data": {
      "text/html": [
       "<div>\n",
       "<style scoped>\n",
       "    .dataframe tbody tr th:only-of-type {\n",
       "        vertical-align: middle;\n",
       "    }\n",
       "\n",
       "    .dataframe tbody tr th {\n",
       "        vertical-align: top;\n",
       "    }\n",
       "\n",
       "    .dataframe thead th {\n",
       "        text-align: right;\n",
       "    }\n",
       "</style>\n",
       "<table border=\"1\" class=\"dataframe\">\n",
       "  <thead>\n",
       "    <tr style=\"text-align: right;\">\n",
       "      <th></th>\n",
       "      <th>Series Key</th>\n",
       "      <th>Series</th>\n",
       "      <th>Observation Date</th>\n",
       "      <th>Observation Value</th>\n",
       "      <th>Unit</th>\n",
       "      <th>Observation Status</th>\n",
       "      <th>Day</th>\n",
       "      <th>Month</th>\n",
       "      <th>Year</th>\n",
       "    </tr>\n",
       "  </thead>\n",
       "  <tbody>\n",
       "    <tr>\n",
       "      <th>0</th>\n",
       "      <td>TS_GP_BOP_WR_M.WR0020</td>\n",
       "      <td>Worker Remittance - USA</td>\n",
       "      <td>2023-06-30</td>\n",
       "      <td>272.285824</td>\n",
       "      <td>Million USD</td>\n",
       "      <td>Normal</td>\n",
       "      <td>30</td>\n",
       "      <td>6</td>\n",
       "      <td>2023</td>\n",
       "    </tr>\n",
       "    <tr>\n",
       "      <th>1</th>\n",
       "      <td>TS_GP_BOP_WR_M.WR0020</td>\n",
       "      <td>Worker Remittance - USA</td>\n",
       "      <td>2023-05-31</td>\n",
       "      <td>257.265148</td>\n",
       "      <td>Million USD</td>\n",
       "      <td>Normal</td>\n",
       "      <td>31</td>\n",
       "      <td>5</td>\n",
       "      <td>2023</td>\n",
       "    </tr>\n",
       "    <tr>\n",
       "      <th>2</th>\n",
       "      <td>TS_GP_BOP_WR_M.WR0020</td>\n",
       "      <td>Worker Remittance - USA</td>\n",
       "      <td>2023-04-30</td>\n",
       "      <td>271.851614</td>\n",
       "      <td>Million USD</td>\n",
       "      <td>Normal</td>\n",
       "      <td>30</td>\n",
       "      <td>4</td>\n",
       "      <td>2023</td>\n",
       "    </tr>\n",
       "    <tr>\n",
       "      <th>3</th>\n",
       "      <td>TS_GP_BOP_WR_M.WR0020</td>\n",
       "      <td>Worker Remittance - USA</td>\n",
       "      <td>2023-03-31</td>\n",
       "      <td>315.241035</td>\n",
       "      <td>Million USD</td>\n",
       "      <td>Normal</td>\n",
       "      <td>31</td>\n",
       "      <td>3</td>\n",
       "      <td>2023</td>\n",
       "    </tr>\n",
       "    <tr>\n",
       "      <th>4</th>\n",
       "      <td>TS_GP_BOP_WR_M.WR0020</td>\n",
       "      <td>Worker Remittance - USA</td>\n",
       "      <td>2023-02-28</td>\n",
       "      <td>219.842073</td>\n",
       "      <td>Million USD</td>\n",
       "      <td>Normal</td>\n",
       "      <td>28</td>\n",
       "      <td>2</td>\n",
       "      <td>2023</td>\n",
       "    </tr>\n",
       "    <tr>\n",
       "      <th>...</th>\n",
       "      <td>...</td>\n",
       "      <td>...</td>\n",
       "      <td>...</td>\n",
       "      <td>...</td>\n",
       "      <td>...</td>\n",
       "      <td>...</td>\n",
       "      <td>...</td>\n",
       "      <td>...</td>\n",
       "      <td>...</td>\n",
       "    </tr>\n",
       "    <tr>\n",
       "      <th>607</th>\n",
       "      <td>TS_GP_BOP_WR_M.WR0020</td>\n",
       "      <td>Worker Remittance - USA</td>\n",
       "      <td>1972-11-30</td>\n",
       "      <td>0.700000</td>\n",
       "      <td>Million USD</td>\n",
       "      <td>Normal</td>\n",
       "      <td>30</td>\n",
       "      <td>11</td>\n",
       "      <td>1972</td>\n",
       "    </tr>\n",
       "    <tr>\n",
       "      <th>608</th>\n",
       "      <td>TS_GP_BOP_WR_M.WR0020</td>\n",
       "      <td>Worker Remittance - USA</td>\n",
       "      <td>1972-10-31</td>\n",
       "      <td>0.800000</td>\n",
       "      <td>Million USD</td>\n",
       "      <td>Normal</td>\n",
       "      <td>31</td>\n",
       "      <td>10</td>\n",
       "      <td>1972</td>\n",
       "    </tr>\n",
       "    <tr>\n",
       "      <th>609</th>\n",
       "      <td>TS_GP_BOP_WR_M.WR0020</td>\n",
       "      <td>Worker Remittance - USA</td>\n",
       "      <td>1972-09-30</td>\n",
       "      <td>0.700000</td>\n",
       "      <td>Million USD</td>\n",
       "      <td>Normal</td>\n",
       "      <td>30</td>\n",
       "      <td>9</td>\n",
       "      <td>1972</td>\n",
       "    </tr>\n",
       "    <tr>\n",
       "      <th>610</th>\n",
       "      <td>TS_GP_BOP_WR_M.WR0020</td>\n",
       "      <td>Worker Remittance - USA</td>\n",
       "      <td>1972-08-31</td>\n",
       "      <td>0.800000</td>\n",
       "      <td>Million USD</td>\n",
       "      <td>Normal</td>\n",
       "      <td>31</td>\n",
       "      <td>8</td>\n",
       "      <td>1972</td>\n",
       "    </tr>\n",
       "    <tr>\n",
       "      <th>611</th>\n",
       "      <td>TS_GP_BOP_WR_M.WR0020</td>\n",
       "      <td>Worker Remittance - USA</td>\n",
       "      <td>1972-07-31</td>\n",
       "      <td>0.600000</td>\n",
       "      <td>Million USD</td>\n",
       "      <td>Normal</td>\n",
       "      <td>31</td>\n",
       "      <td>7</td>\n",
       "      <td>1972</td>\n",
       "    </tr>\n",
       "  </tbody>\n",
       "</table>\n",
       "<p>612 rows × 9 columns</p>\n",
       "</div>"
      ],
      "text/plain": [
       "                Series Key                   Series Observation Date  \\\n",
       "0    TS_GP_BOP_WR_M.WR0020  Worker Remittance - USA       2023-06-30   \n",
       "1    TS_GP_BOP_WR_M.WR0020  Worker Remittance - USA       2023-05-31   \n",
       "2    TS_GP_BOP_WR_M.WR0020  Worker Remittance - USA       2023-04-30   \n",
       "3    TS_GP_BOP_WR_M.WR0020  Worker Remittance - USA       2023-03-31   \n",
       "4    TS_GP_BOP_WR_M.WR0020  Worker Remittance - USA       2023-02-28   \n",
       "..                     ...                      ...              ...   \n",
       "607  TS_GP_BOP_WR_M.WR0020  Worker Remittance - USA       1972-11-30   \n",
       "608  TS_GP_BOP_WR_M.WR0020  Worker Remittance - USA       1972-10-31   \n",
       "609  TS_GP_BOP_WR_M.WR0020  Worker Remittance - USA       1972-09-30   \n",
       "610  TS_GP_BOP_WR_M.WR0020  Worker Remittance - USA       1972-08-31   \n",
       "611  TS_GP_BOP_WR_M.WR0020  Worker Remittance - USA       1972-07-31   \n",
       "\n",
       "     Observation Value         Unit Observation Status  Day  Month  Year  \n",
       "0           272.285824  Million USD             Normal   30      6  2023  \n",
       "1           257.265148  Million USD             Normal   31      5  2023  \n",
       "2           271.851614  Million USD             Normal   30      4  2023  \n",
       "3           315.241035  Million USD             Normal   31      3  2023  \n",
       "4           219.842073  Million USD             Normal   28      2  2023  \n",
       "..                 ...          ...                ...  ...    ...   ...  \n",
       "607           0.700000  Million USD             Normal   30     11  1972  \n",
       "608           0.800000  Million USD             Normal   31     10  1972  \n",
       "609           0.700000  Million USD             Normal   30      9  1972  \n",
       "610           0.800000  Million USD             Normal   31      8  1972  \n",
       "611           0.600000  Million USD             Normal   31      7  1972  \n",
       "\n",
       "[612 rows x 9 columns]"
      ]
     },
     "metadata": {},
     "output_type": "display_data"
    }
   ],
   "source": [
    "dataRem.head(10)\n",
    "dataRem.tail()\n",
    "display(dataRem)"
   ]
  },
  {
   "cell_type": "code",
   "execution_count": 9,
   "metadata": {},
   "outputs": [],
   "source": [
    "dataRem.dropna(inplace=True)"
   ]
  },
  {
   "cell_type": "code",
   "execution_count": 10,
   "metadata": {},
   "outputs": [],
   "source": [
    "import matplotlib.pyplot as plt"
   ]
  },
  {
   "cell_type": "code",
   "execution_count": 11,
   "metadata": {},
   "outputs": [
    {
     "data": {
      "text/plain": [
       "[<matplotlib.lines.Line2D at 0x16dbe987910>]"
      ]
     },
     "execution_count": 11,
     "metadata": {},
     "output_type": "execute_result"
    },
    {
     "data": {
      "image/png": "[encoded data removed]",
      "text/plain": [
       "<Figure size 640x480 with 1 Axes>"
      ]
     },
     "metadata": {},
     "output_type": "display_data"
    }
   ],
   "source": [
    "plt.plot( dataRem['Observation Date'], dataRem['Observation Value'],'+')"
   ]
  },
  {
   "cell_type": "code",
   "execution_count": 12,
   "metadata": {},
   "outputs": [
    {
     "data": {
      "text/plain": [
       "[<matplotlib.lines.Line2D at 0x16dbe9eab10>]"
      ]
     },
     "execution_count": 12,
     "metadata": {},
     "output_type": "execute_result"
    },
    {
     "data": {
      "image/png": "[encoded data removed]",
      "text/plain": [
       "<Figure size 640x480 with 1 Axes>"
      ]
     },
     "metadata": {},
     "output_type": "display_data"
    }
   ],
   "source": [
    "plt.plot(dataRem['Observation Date'],dataRem['Observation Value'],'o')"
   ]
  },
  {
   "cell_type": "code",
   "execution_count": 13,
   "metadata": {},
   "outputs": [],
   "source": [
    "from sklearn.linear_model import LinearRegression"
   ]
  },
  {
   "cell_type": "code",
   "execution_count": 14,
   "metadata": {},
   "outputs": [],
   "source": [
    "X_categorical = dataRem[['Day', 'Month', 'Year']]\n",
    "y = dataRem['Observation Value']"
   ]
  },
  {
   "cell_type": "code",
   "execution_count": 15,
   "metadata": {},
   "outputs": [
    {
     "name": "stderr",
     "output_type": "stream",
     "text": [
      "c:\\Users\\HP\\AppData\\Local\\Programs\\Python\\Python311\\Lib\\site-packages\\sklearn\\preprocessing\\_encoders.py:972: FutureWarning: `sparse` was renamed to `sparse_output` in version 1.2 and will be removed in 1.4. `sparse_output` is ignored unless you leave `sparse` to its default value.\n",
      "  warnings.warn(\n"
     ]
    }
   ],
   "source": [
    "from sklearn.preprocessing import OneHotEncoder\n",
    "\n",
    "\n",
    "encoder = OneHotEncoder(sparse=False)\n",
    "X_encoded = encoder.fit_transform(X_categorical)"
   ]
  },
  {
   "cell_type": "code",
   "execution_count": 23,
   "metadata": {},
   "outputs": [
    {
     "name": "stdout",
     "output_type": "stream",
     "text": [
      "0.9604317947547301\n",
      "[ 1.28966769e+15  1.28966769e+15  6.39925212e+14  5.55331356e+14\n",
      " -1.42579934e+15 -2.16013567e+15 -1.42579934e+15 -1.51039320e+15\n",
      " -1.42579934e+15 -1.51039320e+15 -1.42579934e+15 -1.42579934e+15\n",
      " -1.51039320e+15 -1.42579934e+15 -1.51039320e+15 -1.42579934e+15\n",
      "  8.27276262e+14  8.27276262e+14  8.27276262e+14  8.27276262e+14\n",
      "  8.27276262e+14  8.27276262e+14  8.27276262e+14  8.27276262e+14\n",
      "  8.27276262e+14  8.27276262e+14  8.27276262e+14  8.27276262e+14\n",
      "  8.27276262e+14  8.27276262e+14  8.27276262e+14  8.27276262e+14\n",
      "  8.27276262e+14  8.27276262e+14  8.27276262e+14  8.27276262e+14\n",
      "  8.27276262e+14  8.27276262e+14  8.27276262e+14  8.27276262e+14\n",
      "  8.27276262e+14  8.27276262e+14  8.27276262e+14  8.27276262e+14\n",
      "  8.27276262e+14  8.27276262e+14  8.27276262e+14  8.27276262e+14\n",
      "  8.27276262e+14  8.27276262e+14  8.27276262e+14  8.27276262e+14\n",
      "  8.27276262e+14  8.27276262e+14  8.27276262e+14  8.27276262e+14\n",
      "  8.27276262e+14  8.27276262e+14  8.27276262e+14  8.27276262e+14\n",
      "  8.27276262e+14  8.27276262e+14  8.27276262e+14  8.27276262e+14\n",
      "  8.27276262e+14  8.27276262e+14  8.27276262e+14  8.27276262e+14]\n",
      "43191723053905.805\n"
     ]
    }
   ],
   "source": [
    "regRem = LinearRegression().fit(X_encoded, y)\n",
    "\n",
    "print(regRem.score(X_encoded, y))  # R-squared value (coefficient of determination)\n",
    "print(regRem.coef_)  # Coefficients of the features\n",
    "print(regRem.intercept_)"
   ]
  },
  {
   "cell_type": "code",
   "execution_count": 30,
   "metadata": {},
   "outputs": [
    {
     "ename": "ValueError",
     "evalue": "Found unknown categories [2024] in column 2 during transform",
     "output_type": "error",
     "traceback": [
      "\u001b[1;31m---------------------------------------------------------------------------\u001b[0m",
      "\u001b[1;31mValueError\u001b[0m                                Traceback (most recent call last)",
      "Cell \u001b[1;32mIn[30], line 5\u001b[0m\n\u001b[0;32m      1\u001b[0m \u001b[39mfrom\u001b[39;00m \u001b[39msklearn\u001b[39;00m\u001b[39m.\u001b[39;00m\u001b[39mmetrics\u001b[39;00m \u001b[39mimport\u001b[39;00m mean_squared_error, r2_score\n\u001b[0;32m      3\u001b[0m new_data \u001b[39m=\u001b[39m pd\u001b[39m.\u001b[39mDataFrame({\u001b[39m'\u001b[39m\u001b[39mDay\u001b[39m\u001b[39m'\u001b[39m: [\u001b[39m30\u001b[39m], \u001b[39m'\u001b[39m\u001b[39mMonth\u001b[39m\u001b[39m'\u001b[39m: [\u001b[39m3\u001b[39m], \u001b[39m'\u001b[39m\u001b[39mYear\u001b[39m\u001b[39m'\u001b[39m: [\u001b[39m2024\u001b[39m]})\n\u001b[1;32m----> 5\u001b[0m new_data_encoded \u001b[39m=\u001b[39m encoder\u001b[39m.\u001b[39;49mtransform(new_data)\n\u001b[0;32m      6\u001b[0m predictions \u001b[39m=\u001b[39m regRem\u001b[39m.\u001b[39mpredict(new_data_encoded)\n\u001b[0;32m      8\u001b[0m \u001b[39m# Print the predicted values\u001b[39;00m\n",
      "File \u001b[1;32mc:\\Users\\HP\\AppData\\Local\\Programs\\Python\\Python311\\Lib\\site-packages\\sklearn\\utils\\_set_output.py:140\u001b[0m, in \u001b[0;36m_wrap_method_output.<locals>.wrapped\u001b[1;34m(self, X, *args, **kwargs)\u001b[0m\n\u001b[0;32m    138\u001b[0m \u001b[39m@wraps\u001b[39m(f)\n\u001b[0;32m    139\u001b[0m \u001b[39mdef\u001b[39;00m \u001b[39mwrapped\u001b[39m(\u001b[39mself\u001b[39m, X, \u001b[39m*\u001b[39margs, \u001b[39m*\u001b[39m\u001b[39m*\u001b[39mkwargs):\n\u001b[1;32m--> 140\u001b[0m     data_to_wrap \u001b[39m=\u001b[39m f(\u001b[39mself\u001b[39;49m, X, \u001b[39m*\u001b[39;49margs, \u001b[39m*\u001b[39;49m\u001b[39m*\u001b[39;49mkwargs)\n\u001b[0;32m    141\u001b[0m     \u001b[39mif\u001b[39;00m \u001b[39misinstance\u001b[39m(data_to_wrap, \u001b[39mtuple\u001b[39m):\n\u001b[0;32m    142\u001b[0m         \u001b[39m# only wrap the first output for cross decomposition\u001b[39;00m\n\u001b[0;32m    143\u001b[0m         return_tuple \u001b[39m=\u001b[39m (\n\u001b[0;32m    144\u001b[0m             _wrap_data_with_container(method, data_to_wrap[\u001b[39m0\u001b[39m], X, \u001b[39mself\u001b[39m),\n\u001b[0;32m    145\u001b[0m             \u001b[39m*\u001b[39mdata_to_wrap[\u001b[39m1\u001b[39m:],\n\u001b[0;32m    146\u001b[0m         )\n",
      "File \u001b[1;32mc:\\Users\\HP\\AppData\\Local\\Programs\\Python\\Python311\\Lib\\site-packages\\sklearn\\preprocessing\\_encoders.py:1016\u001b[0m, in \u001b[0;36mOneHotEncoder.transform\u001b[1;34m(self, X)\u001b[0m\n\u001b[0;32m   1011\u001b[0m \u001b[39m# validation of X happens in _check_X called by _transform\u001b[39;00m\n\u001b[0;32m   1012\u001b[0m warn_on_unknown \u001b[39m=\u001b[39m \u001b[39mself\u001b[39m\u001b[39m.\u001b[39mdrop \u001b[39mis\u001b[39;00m \u001b[39mnot\u001b[39;00m \u001b[39mNone\u001b[39;00m \u001b[39mand\u001b[39;00m \u001b[39mself\u001b[39m\u001b[39m.\u001b[39mhandle_unknown \u001b[39min\u001b[39;00m {\n\u001b[0;32m   1013\u001b[0m     \u001b[39m\"\u001b[39m\u001b[39mignore\u001b[39m\u001b[39m\"\u001b[39m,\n\u001b[0;32m   1014\u001b[0m     \u001b[39m\"\u001b[39m\u001b[39minfrequent_if_exist\u001b[39m\u001b[39m\"\u001b[39m,\n\u001b[0;32m   1015\u001b[0m }\n\u001b[1;32m-> 1016\u001b[0m X_int, X_mask \u001b[39m=\u001b[39m \u001b[39mself\u001b[39;49m\u001b[39m.\u001b[39;49m_transform(\n\u001b[0;32m   1017\u001b[0m     X,\n\u001b[0;32m   1018\u001b[0m     handle_unknown\u001b[39m=\u001b[39;49m\u001b[39mself\u001b[39;49m\u001b[39m.\u001b[39;49mhandle_unknown,\n\u001b[0;32m   1019\u001b[0m     force_all_finite\u001b[39m=\u001b[39;49m\u001b[39m\"\u001b[39;49m\u001b[39mallow-nan\u001b[39;49m\u001b[39m\"\u001b[39;49m,\n\u001b[0;32m   1020\u001b[0m     warn_on_unknown\u001b[39m=\u001b[39;49mwarn_on_unknown,\n\u001b[0;32m   1021\u001b[0m )\n\u001b[0;32m   1023\u001b[0m n_samples, n_features \u001b[39m=\u001b[39m X_int\u001b[39m.\u001b[39mshape\n\u001b[0;32m   1025\u001b[0m \u001b[39mif\u001b[39;00m \u001b[39mself\u001b[39m\u001b[39m.\u001b[39m_drop_idx_after_grouping \u001b[39mis\u001b[39;00m \u001b[39mnot\u001b[39;00m \u001b[39mNone\u001b[39;00m:\n",
      "File \u001b[1;32mc:\\Users\\HP\\AppData\\Local\\Programs\\Python\\Python311\\Lib\\site-packages\\sklearn\\preprocessing\\_encoders.py:199\u001b[0m, in \u001b[0;36m_BaseEncoder._transform\u001b[1;34m(self, X, handle_unknown, force_all_finite, warn_on_unknown, ignore_category_indices)\u001b[0m\n\u001b[0;32m    194\u001b[0m \u001b[39mif\u001b[39;00m handle_unknown \u001b[39m==\u001b[39m \u001b[39m\"\u001b[39m\u001b[39merror\u001b[39m\u001b[39m\"\u001b[39m:\n\u001b[0;32m    195\u001b[0m     msg \u001b[39m=\u001b[39m (\n\u001b[0;32m    196\u001b[0m         \u001b[39m\"\u001b[39m\u001b[39mFound unknown categories \u001b[39m\u001b[39m{0}\u001b[39;00m\u001b[39m in column \u001b[39m\u001b[39m{1}\u001b[39;00m\u001b[39m\"\u001b[39m\n\u001b[0;32m    197\u001b[0m         \u001b[39m\"\u001b[39m\u001b[39m during transform\u001b[39m\u001b[39m\"\u001b[39m\u001b[39m.\u001b[39mformat(diff, i)\n\u001b[0;32m    198\u001b[0m     )\n\u001b[1;32m--> 199\u001b[0m     \u001b[39mraise\u001b[39;00m \u001b[39mValueError\u001b[39;00m(msg)\n\u001b[0;32m    200\u001b[0m \u001b[39melse\u001b[39;00m:\n\u001b[0;32m    201\u001b[0m     \u001b[39mif\u001b[39;00m warn_on_unknown:\n",
      "\u001b[1;31mValueError\u001b[0m: Found unknown categories [2024] in column 2 during transform"
     ]
    }
   ],
   "source": [
    "from sklearn.metrics import mean_squared_error, r2_score\n",
    "\n",
    "#new_data = pd.DataFrame({'Day': [30], 'Month': [3], 'Year': [2024]})\n",
    "\n",
    "#new_data_encoded = encoder.transform(new_data)\n",
    "#predictions = regRem.predict(new_data_encoded)\n",
    "\n",
    "# Print the predicted values\n",
    "#print(predictions)\n",
    "#print(\"Mean squared error: %.2f\" % mean_squared_error(y, predictions))"
   ]
  },
  {
   "cell_type": "code",
   "execution_count": 33,
   "metadata": {},
   "outputs": [
    {
     "name": "stdout",
     "output_type": "stream",
     "text": [
      "Mean squared error: 331.12\n",
      "Coefficient of determination: 0.96\n"
     ]
    }
   ],
   "source": [
    "y_pred = regRem.predict(X_encoded)\n",
    "print(\"Mean squared error: %.2f\" % mean_squared_error(y, y_pred))\n",
    "print(\"Coefficient of determination: %.2f\" % r2_score(y, y_pred))"
   ]
  },
  {
   "cell_type": "code",
   "execution_count": 36,
   "metadata": {},
   "outputs": [
    {
     "name": "stdout",
     "output_type": "stream",
     "text": [
      "0.9652695573675902\n",
      "[-2.68129667e+15 -2.68129667e+15 -6.56309061e+14 -1.03105916e+15\n",
      "  6.47147783e+13  1.71495229e+15  6.47147783e+13 -3.10035322e+14\n",
      "  6.47147783e+13 -3.10035322e+14  6.47147783e+13  6.47147783e+13\n",
      " -3.10035322e+14  6.47147783e+13 -3.10035322e+14  6.47147783e+13\n",
      "  3.35581097e+13  3.35581097e+13  3.35581097e+13  3.35581097e+13\n",
      "  3.35581097e+13  3.35581097e+13  3.35581097e+13  3.35581097e+13\n",
      "  3.35581097e+13  3.35581097e+13  3.35581097e+13  3.35581097e+13\n",
      "  3.35581097e+13  3.35581097e+13  3.35581097e+13  3.35581097e+13\n",
      "  3.35581097e+13  3.35581097e+13  3.35581097e+13  3.35581097e+13\n",
      "  3.35581097e+13  3.35581097e+13  3.35581097e+13  3.35581097e+13\n",
      "  3.35581097e+13  3.35581097e+13  3.35581097e+13  3.35581097e+13\n",
      "  3.35581097e+13  3.35581097e+13  3.35581097e+13  3.35581097e+13\n",
      "  3.35581097e+13  3.35581097e+13  3.35581097e+13  3.35581097e+13\n",
      "  3.35581097e+13  3.35581097e+13  3.35581097e+13  3.35581097e+13\n",
      "  3.35581097e+13  3.35581097e+13  3.35581097e+13  3.35581097e+13\n",
      "  3.35581097e+13  3.35581097e+13  3.35581097e+13  3.35581097e+13\n",
      "  3.35581097e+13  3.35581097e+13  3.35581097e+13  3.35581097e+13]\n",
      "932786273068379.2\n",
      "Mean squared error: 489.95\n",
      "Coefficient of determination: 0.936\n"
     ]
    }
   ],
   "source": [
    "from sklearn.model_selection import train_test_split\n",
    "\n",
    "X_train, X_test, y_train, y_test = train_test_split(X_encoded, y, test_size = 0.3)\n",
    "regRem2 = LinearRegression().fit(X_train, y_train)\n",
    "print(regRem2.score(X_train, y_train))\n",
    "print(regRem2.coef_)\n",
    "print(regRem2.intercept_)\n",
    "y_pred_test = regRem2.predict(X_test)\n",
    "print(\"Mean squared error: %.2f\" % mean_squared_error(y_test, y_pred_test))\n",
    "print(\"Coefficient of determination: %.3f\" % r2_score(y_test, y_pred_test))"
   ]
  },
  {
   "cell_type": "code",
   "execution_count": 38,
   "metadata": {},
   "outputs": [],
   "source": [
    "from sklearn.feature_selection import SequentialFeatureSelector"
   ]
  },
  {
   "cell_type": "code",
   "execution_count": 39,
   "metadata": {},
   "outputs": [
    {
     "name": "stdout",
     "output_type": "stream",
     "text": [
      "['x58' 'x61' 'x62' 'x65' 'x66']\n"
     ]
    }
   ],
   "source": [
    "ols_reg = LinearRegression()\n",
    "sfs = SequentialFeatureSelector(ols_reg, direction='forward',n_features_to_select=5)\n",
    "sfs.fit(X_encoded, y)\n",
    "print(sfs.get_feature_names_out())"
   ]
  },
  {
   "cell_type": "code",
   "execution_count": 41,
   "metadata": {},
   "outputs": [
    {
     "name": "stdout",
     "output_type": "stream",
     "text": [
      "['x54' 'x58' 'x59' 'x61' 'x63']\n"
     ]
    }
   ],
   "source": [
    "ols_reg = LinearRegression()\n",
    "sfs = SequentialFeatureSelector(ols_reg, direction='backward',n_features_to_select=5)\n",
    "sfs.fit(X_encoded, y)\n",
    "print(sfs.get_feature_names_out())"
   ]
  },
  {
   "cell_type": "code",
   "execution_count": 46,
   "metadata": {},
   "outputs": [],
   "source": [
    "from sklearn.linear_model import LinearRegression\n",
    "from sklearn.tree import DecisionTreeRegressor \n",
    "from sklearn.ensemble import RandomForestRegressor, GradientBoostingRegressor\n",
    "from sklearn.linear_model import PoissonRegressor\n",
    "from sklearn import tree"
   ]
  },
  {
   "cell_type": "code",
   "execution_count": 43,
   "metadata": {},
   "outputs": [
    {
     "name": "stdout",
     "output_type": "stream",
     "text": [
      "DT: R2 = 0.5884 and MSE = 3514.77\n"
     ]
    }
   ],
   "source": [
    "regTree = DecisionTreeRegressor(max_depth=10,random_state=0)\n",
    "regTree.fit(X_train, y_train)\n",
    "y_pred = regTree.predict(X_test)\n",
    "print(\"DT: R2 = %.4f and MSE = %.2f\" % (regTree.score(X_test,y_test), mean_squared_error(y_test, y_pred)))"
   ]
  },
  {
   "cell_type": "code",
   "execution_count": 44,
   "metadata": {},
   "outputs": [
    {
     "name": "stdout",
     "output_type": "stream",
     "text": [
      "RF: R2 = 0.3099 and MSE = 5894.03\n"
     ]
    }
   ],
   "source": [
    "regRF = RandomForestRegressor(max_depth=6, max_features=4, min_samples_split=8,\n",
    "                      n_estimators=300, random_state=0)\n",
    "regRF.fit(X_train, y_train)\n",
    "y_pred = regRF.predict(X_test)\n",
    "print(\"RF: R2 = %.4f and MSE = %.2f\" % (regRF.score(X_test,y_test), mean_squared_error(y_test, y_pred)))"
   ]
  },
  {
   "cell_type": "code",
   "execution_count": 45,
   "metadata": {},
   "outputs": [
    {
     "name": "stdout",
     "output_type": "stream",
     "text": [
      "GB: R2 = 0.9480 and MSE = 444.10\n"
     ]
    }
   ],
   "source": [
    "regGB = GradientBoostingRegressor(max_depth=10, max_features=4, min_samples_split=8,\n",
    "                      n_estimators=300, random_state=0)\n",
    "regGB.fit(X_train, y_train)\n",
    "y_pred = regGB.predict(X_test)\n",
    "print(\"GB: R2 = %.4f and MSE = %.2f\" % (regGB.score(X_test,y_test), mean_squared_error(y_test, y_pred)))"
   ]
  },
  {
   "cell_type": "code",
   "execution_count": 48,
   "metadata": {},
   "outputs": [
    {
     "name": "stdout",
     "output_type": "stream",
     "text": [
      "Poisson: R2 = 0.7222 and MSE = 2094.19\n"
     ]
    }
   ],
   "source": [
    "regP = PoissonRegressor(alpha=1.0, fit_intercept=True, solver='lbfgs', max_iter=100, tol=0.0001, warm_start=False, verbose=0)\n",
    "regP.fit(X_train, y_train)\n",
    "y_pred = regP.predict(X_test)\n",
    "print(\"Poisson: R2 = %.4f and MSE = %.2f\" % (regP.score(X_test,y_test), mean_squared_error(y_test, y_pred)))"
   ]
  },
  {
   "cell_type": "code",
   "execution_count": 35,
   "metadata": {},
   "outputs": [],
   "source": [
    "import lazypredict\n"
   ]
  },
  {
   "cell_type": "code",
   "execution_count": 37,
   "metadata": {},
   "outputs": [
    {
     "name": "stderr",
     "output_type": "stream",
     "text": [
      " 69%|██████▉   | 29/42 [00:05<00:02,  5.45it/s]"
     ]
    },
    {
     "name": "stdout",
     "output_type": "stream",
     "text": [
      "QuantileRegressor model failed to execute\n",
      "Solver interior-point is not anymore available in SciPy >= 1.11.0.\n"
     ]
    },
    {
     "name": "stderr",
     "output_type": "stream",
     "text": [
      "100%|██████████| 42/42 [00:07<00:00,  5.37it/s]"
     ]
    },
    {
     "name": "stdout",
     "output_type": "stream",
     "text": [
      "[LightGBM] [Warning] Auto-choosing row-wise multi-threading, the overhead of testing was 0.000191 seconds.\n",
      "You can set `force_row_wise=true` to remove the overhead.\n",
      "And if memory is not enough, you can set `force_col_wise=true`.\n",
      "[LightGBM] [Info] Total Bins 45\n",
      "[LightGBM] [Info] Number of data points in the train set: 428, number of used features: 15\n",
      "[LightGBM] [Info] Start training from score 79.686068\n",
      "[LightGBM] [Warning] No further splits with positive gain, best gain: -inf\n",
      "[LightGBM] [Warning] No further splits with positive gain, best gain: -inf\n",
      "[LightGBM] [Warning] No further splits with positive gain, best gain: -inf\n",
      "[LightGBM] [Warning] No further splits with positive gain, best gain: -inf\n",
      "[LightGBM] [Warning] No further splits with positive gain, best gain: -inf\n",
      "[LightGBM] [Warning] No further splits with positive gain, best gain: -inf\n",
      "[LightGBM] [Warning] No further splits with positive gain, best gain: -inf\n",
      "[LightGBM] [Warning] No further splits with positive gain, best gain: -inf\n",
      "[LightGBM] [Warning] No further splits with positive gain, best gain: -inf\n",
      "[LightGBM] [Warning] No further splits with positive gain, best gain: -inf\n",
      "[LightGBM] [Warning] No further splits with positive gain, best gain: -inf\n",
      "[LightGBM] [Warning] No further splits with positive gain, best gain: -inf\n",
      "[LightGBM] [Warning] No further splits with positive gain, best gain: -inf\n",
      "[LightGBM] [Warning] No further splits with positive gain, best gain: -inf\n",
      "[LightGBM] [Warning] No further splits with positive gain, best gain: -inf\n",
      "[LightGBM] [Warning] No further splits with positive gain, best gain: -inf\n",
      "[LightGBM] [Warning] No further splits with positive gain, best gain: -inf\n",
      "[LightGBM] [Warning] No further splits with positive gain, best gain: -inf\n",
      "[LightGBM] [Warning] No further splits with positive gain, best gain: -inf\n",
      "[LightGBM] [Warning] No further splits with positive gain, best gain: -inf\n",
      "[LightGBM] [Warning] No further splits with positive gain, best gain: -inf\n",
      "[LightGBM] [Warning] No further splits with positive gain, best gain: -inf\n",
      "[LightGBM] [Warning] No further splits with positive gain, best gain: -inf\n",
      "[LightGBM] [Warning] No further splits with positive gain, best gain: -inf\n",
      "[LightGBM] [Warning] No further splits with positive gain, best gain: -inf\n",
      "[LightGBM] [Warning] No further splits with positive gain, best gain: -inf\n",
      "[LightGBM] [Warning] No further splits with positive gain, best gain: -inf\n",
      "[LightGBM] [Warning] No further splits with positive gain, best gain: -inf\n",
      "[LightGBM] [Warning] No further splits with positive gain, best gain: -inf\n",
      "[LightGBM] [Warning] No further splits with positive gain, best gain: -inf\n",
      "[LightGBM] [Warning] No further splits with positive gain, best gain: -inf\n",
      "[LightGBM] [Warning] No further splits with positive gain, best gain: -inf\n",
      "[LightGBM] [Warning] No further splits with positive gain, best gain: -inf\n",
      "[LightGBM] [Warning] No further splits with positive gain, best gain: -inf\n",
      "[LightGBM] [Warning] No further splits with positive gain, best gain: -inf\n",
      "[LightGBM] [Warning] No further splits with positive gain, best gain: -inf\n",
      "[LightGBM] [Warning] No further splits with positive gain, best gain: -inf\n",
      "[LightGBM] [Warning] No further splits with positive gain, best gain: -inf\n",
      "[LightGBM] [Warning] No further splits with positive gain, best gain: -inf\n",
      "[LightGBM] [Warning] No further splits with positive gain, best gain: -inf\n",
      "[LightGBM] [Warning] No further splits with positive gain, best gain: -inf\n",
      "[LightGBM] [Warning] No further splits with positive gain, best gain: -inf\n",
      "[LightGBM] [Warning] No further splits with positive gain, best gain: -inf\n",
      "[LightGBM] [Warning] No further splits with positive gain, best gain: -inf\n",
      "[LightGBM] [Warning] No further splits with positive gain, best gain: -inf\n",
      "[LightGBM] [Warning] No further splits with positive gain, best gain: -inf\n",
      "[LightGBM] [Warning] No further splits with positive gain, best gain: -inf\n",
      "[LightGBM] [Warning] No further splits with positive gain, best gain: -inf\n",
      "[LightGBM] [Warning] No further splits with positive gain, best gain: -inf\n",
      "[LightGBM] [Warning] No further splits with positive gain, best gain: -inf\n",
      "[LightGBM] [Warning] No further splits with positive gain, best gain: -inf\n",
      "[LightGBM] [Warning] No further splits with positive gain, best gain: -inf\n",
      "[LightGBM] [Warning] No further splits with positive gain, best gain: -inf\n",
      "[LightGBM] [Warning] No further splits with positive gain, best gain: -inf\n",
      "[LightGBM] [Warning] No further splits with positive gain, best gain: -inf\n",
      "[LightGBM] [Warning] No further splits with positive gain, best gain: -inf\n",
      "[LightGBM] [Warning] No further splits with positive gain, best gain: -inf\n",
      "[LightGBM] [Warning] No further splits with positive gain, best gain: -inf\n",
      "[LightGBM] [Warning] No further splits with positive gain, best gain: -inf\n",
      "[LightGBM] [Warning] No further splits with positive gain, best gain: -inf\n",
      "[LightGBM] [Warning] No further splits with positive gain, best gain: -inf\n",
      "[LightGBM] [Warning] No further splits with positive gain, best gain: -inf\n",
      "[LightGBM] [Warning] No further splits with positive gain, best gain: -inf\n",
      "[LightGBM] [Warning] No further splits with positive gain, best gain: -inf\n",
      "[LightGBM] [Warning] No further splits with positive gain, best gain: -inf\n",
      "[LightGBM] [Warning] No further splits with positive gain, best gain: -inf\n",
      "[LightGBM] [Warning] No further splits with positive gain, best gain: -inf\n",
      "[LightGBM] [Warning] No further splits with positive gain, best gain: -inf\n",
      "[LightGBM] [Warning] No further splits with positive gain, best gain: -inf\n",
      "[LightGBM] [Warning] No further splits with positive gain, best gain: -inf\n",
      "[LightGBM] [Warning] No further splits with positive gain, best gain: -inf\n",
      "[LightGBM] [Warning] No further splits with positive gain, best gain: -inf\n",
      "[LightGBM] [Warning] No further splits with positive gain, best gain: -inf\n",
      "[LightGBM] [Warning] No further splits with positive gain, best gain: -inf\n",
      "[LightGBM] [Warning] No further splits with positive gain, best gain: -inf\n",
      "[LightGBM] [Warning] No further splits with positive gain, best gain: -inf\n",
      "[LightGBM] [Warning] No further splits with positive gain, best gain: -inf\n",
      "[LightGBM] [Warning] No further splits with positive gain, best gain: -inf\n",
      "[LightGBM] [Warning] No further splits with positive gain, best gain: -inf\n",
      "[LightGBM] [Warning] No further splits with positive gain, best gain: -inf\n",
      "[LightGBM] [Warning] No further splits with positive gain, best gain: -inf\n",
      "[LightGBM] [Warning] No further splits with positive gain, best gain: -inf\n",
      "[LightGBM] [Warning] No further splits with positive gain, best gain: -inf\n",
      "[LightGBM] [Warning] No further splits with positive gain, best gain: -inf\n",
      "[LightGBM] [Warning] No further splits with positive gain, best gain: -inf\n",
      "[LightGBM] [Warning] No further splits with positive gain, best gain: -inf\n",
      "[LightGBM] [Warning] No further splits with positive gain, best gain: -inf\n",
      "[LightGBM] [Warning] No further splits with positive gain, best gain: -inf\n",
      "[LightGBM] [Warning] No further splits with positive gain, best gain: -inf\n",
      "[LightGBM] [Warning] No further splits with positive gain, best gain: -inf\n",
      "[LightGBM] [Warning] No further splits with positive gain, best gain: -inf\n",
      "[LightGBM] [Warning] No further splits with positive gain, best gain: -inf\n",
      "[LightGBM] [Warning] No further splits with positive gain, best gain: -inf\n",
      "[LightGBM] [Warning] No further splits with positive gain, best gain: -inf\n",
      "[LightGBM] [Warning] No further splits with positive gain, best gain: -inf\n",
      "[LightGBM] [Warning] No further splits with positive gain, best gain: -inf\n",
      "[LightGBM] [Warning] No further splits with positive gain, best gain: -inf\n",
      "[LightGBM] [Warning] No further splits with positive gain, best gain: -inf\n",
      "[LightGBM] [Warning] No further splits with positive gain, best gain: -inf\n",
      "[LightGBM] [Warning] No further splits with positive gain, best gain: -inf\n",
      "                                         Adjusted R-Squared  \\\n",
      "Model                                                         \n",
      "PoissonRegressor                                       0.93   \n",
      "LassoLarsIC                                            0.93   \n",
      "LarsCV                                                 0.92   \n",
      "LassoLarsCV                                            0.92   \n",
      "LassoCV                                                0.92   \n",
      "BayesianRidge                                          0.92   \n",
      "RidgeCV                                                0.92   \n",
      "Ridge                                                  0.92   \n",
      "Lars                                                   0.92   \n",
      "SGDRegressor                                           0.92   \n",
      "ElasticNetCV                                           0.92   \n",
      "RandomForestRegressor                                  0.92   \n",
      "Lasso                                                  0.92   \n",
      "LassoLars                                              0.92   \n",
      "TransformedTargetRegressor                             0.92   \n",
      "LinearRegression                                       0.92   \n",
      "HuberRegressor                                         0.91   \n",
      "XGBRegressor                                           0.91   \n",
      "BaggingRegressor                                       0.89   \n",
      "MLPRegressor                                           0.89   \n",
      "PassiveAggressiveRegressor                             0.89   \n",
      "DecisionTreeRegressor                                  0.89   \n",
      "ExtraTreesRegressor                                    0.89   \n",
      "ExtraTreeRegressor                                     0.88   \n",
      "KNeighborsRegressor                                    0.88   \n",
      "LinearSVR                                              0.87   \n",
      "ElasticNet                                             0.74   \n",
      "GradientBoostingRegressor                              0.73   \n",
      "TweedieRegressor                                       0.55   \n",
      "GammaRegressor                                         0.27   \n",
      "KernelRidge                                           -0.18   \n",
      "OrthogonalMatchingPursuit                             -0.31   \n",
      "OrthogonalMatchingPursuitCV                           -0.31   \n",
      "NuSVR                                                 -0.52   \n",
      "AdaBoostRegressor                                     -0.54   \n",
      "DummyRegressor                                        -0.59   \n",
      "HistGradientBoostingRegressor                         -0.69   \n",
      "LGBMRegressor                                         -0.69   \n",
      "SVR                                                   -1.28   \n",
      "GaussianProcessRegressor                              -1.83   \n",
      "RANSACRegressor               -9914008356603097706921984.00   \n",
      "\n",
      "                                                  R-Squared  \\\n",
      "Model                                                         \n",
      "PoissonRegressor                                       0.96   \n",
      "LassoLarsIC                                            0.95   \n",
      "LarsCV                                                 0.95   \n",
      "LassoLarsCV                                            0.95   \n",
      "LassoCV                                                0.95   \n",
      "BayesianRidge                                          0.95   \n",
      "RidgeCV                                                0.95   \n",
      "Ridge                                                  0.95   \n",
      "Lars                                                   0.95   \n",
      "SGDRegressor                                           0.95   \n",
      "ElasticNetCV                                           0.95   \n",
      "RandomForestRegressor                                  0.95   \n",
      "Lasso                                                  0.95   \n",
      "LassoLars                                              0.95   \n",
      "TransformedTargetRegressor                             0.95   \n",
      "LinearRegression                                       0.95   \n",
      "HuberRegressor                                         0.95   \n",
      "XGBRegressor                                           0.94   \n",
      "BaggingRegressor                                       0.93   \n",
      "MLPRegressor                                           0.93   \n",
      "PassiveAggressiveRegressor                             0.93   \n",
      "DecisionTreeRegressor                                  0.93   \n",
      "ExtraTreesRegressor                                    0.93   \n",
      "ExtraTreeRegressor                                     0.93   \n",
      "KNeighborsRegressor                                    0.92   \n",
      "LinearSVR                                              0.92   \n",
      "ElasticNet                                             0.83   \n",
      "GradientBoostingRegressor                              0.83   \n",
      "TweedieRegressor                                       0.72   \n",
      "GammaRegressor                                         0.54   \n",
      "KernelRidge                                            0.26   \n",
      "OrthogonalMatchingPursuit                              0.18   \n",
      "OrthogonalMatchingPursuitCV                            0.18   \n",
      "NuSVR                                                  0.04   \n",
      "AdaBoostRegressor                                      0.04   \n",
      "DummyRegressor                                        -0.00   \n",
      "HistGradientBoostingRegressor                         -0.06   \n",
      "LGBMRegressor                                         -0.06   \n",
      "SVR                                                   -0.43   \n",
      "GaussianProcessRegressor                              -0.78   \n",
      "RANSACRegressor               -6230114541034733203095552.00   \n",
      "\n",
      "                                            RMSE  Time Taken  \n",
      "Model                                                         \n",
      "PoissonRegressor                           19.14        0.07  \n",
      "LassoLarsIC                                19.98        0.08  \n",
      "LarsCV                                     20.09        0.13  \n",
      "LassoLarsCV                                20.09        0.13  \n",
      "LassoCV                                    20.10        0.20  \n",
      "BayesianRidge                              20.25        0.08  \n",
      "RidgeCV                                    20.27        0.08  \n",
      "Ridge                                      20.27        0.02  \n",
      "Lars                                       20.28        0.06  \n",
      "SGDRegressor                               20.30        0.03  \n",
      "ElasticNetCV                               20.31        0.17  \n",
      "RandomForestRegressor                      20.43        1.05  \n",
      "Lasso                                      20.50        0.02  \n",
      "LassoLars                                  20.50        0.04  \n",
      "TransformedTargetRegressor                 20.87        0.06  \n",
      "LinearRegression                           20.87        0.04  \n",
      "HuberRegressor                             21.66        0.08  \n",
      "XGBRegressor                               21.73        0.18  \n",
      "BaggingRegressor                           23.91        0.13  \n",
      "MLPRegressor                               24.14        1.31  \n",
      "PassiveAggressiveRegressor                 24.36        0.02  \n",
      "DecisionTreeRegressor                      24.38        0.03  \n",
      "ExtraTreesRegressor                        24.55        1.17  \n",
      "ExtraTreeRegressor                         24.87        0.03  \n",
      "KNeighborsRegressor                        25.75        0.26  \n",
      "LinearSVR                                  25.98        0.04  \n",
      "ElasticNet                                 37.69        0.02  \n",
      "GradientBoostingRegressor                  38.13        0.18  \n",
      "TweedieRegressor                           49.12        0.03  \n",
      "GammaRegressor                             62.76        0.25  \n",
      "KernelRidge                                79.54        0.04  \n",
      "OrthogonalMatchingPursuit                  83.80        0.02  \n",
      "OrthogonalMatchingPursuitCV                83.80        0.04  \n",
      "NuSVR                                      90.46        0.04  \n",
      "AdaBoostRegressor                          90.77        0.08  \n",
      "DummyRegressor                             92.43        0.01  \n",
      "HistGradientBoostingRegressor              95.12        0.56  \n",
      "LGBMRegressor                              95.12        0.11  \n",
      "SVR                                       110.53        0.05  \n",
      "GaussianProcessRegressor                  123.31        0.06  \n",
      "RANSACRegressor               230666821370489.38        0.75  \n"
     ]
    },
    {
     "name": "stderr",
     "output_type": "stream",
     "text": [
      "\n"
     ]
    }
   ],
   "source": [
    "from lazypredict.Supervised import LazyRegressor\n",
    "from sklearn.utils import shuffle\n",
    "\n",
    "X_train, X_test, y_train, y_test = train_test_split(X_encoded, y, test_size = 0.3)\n",
    "\n",
    "reg = LazyRegressor(verbose=0, ignore_warnings=False, custom_metric=None)\n",
    "models, predictions = reg.fit(X_train, X_test, y_train, y_test)\n",
    "\n",
    "print(models)"
   ]
  }
 ],
 "metadata": {
  "kernelspec": {
   "display_name": "Python 3",
   "language": "python",
   "name": "python3"
  },
  "language_info": {
   "codemirror_mode": {
    "name": "ipython",
    "version": 3
   },
   "file_extension": ".py",
   "mimetype": "text/x-python",
   "name": "python",
   "nbconvert_exporter": "python",
   "pygments_lexer": "ipython3",
   "version": "3.11.4"
  },
  "orig_nbformat": 4
 },
 "nbformat": 4,
 "nbformat_minor": 2
}
